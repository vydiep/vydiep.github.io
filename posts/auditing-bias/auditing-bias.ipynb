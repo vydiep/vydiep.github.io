{
 "cells": [
  {
   "cell_type": "markdown",
   "id": "4528185e-b7a3-4e32-a9b7-d6dc138f5ae2",
   "metadata": {},
   "source": [
    "# Auditing Allocative Bias"
   ]
  },
  {
   "cell_type": "markdown",
   "id": "b32955ab-e2dc-4934-a98a-fe319126fa70",
   "metadata": {},
   "source": [
    "---"
   ]
  },
  {
   "cell_type": "markdown",
   "id": "319422c4-c308-4dbb-b353-518a1d0ed072",
   "metadata": {},
   "source": [
    "### What is the purpose of this blog post?\n",
    "\n",
    "In this blog post, we aim to create a machine learning model that predicts whether a person's income is over $50k using their demographic data, excluding sex. Once we have a working model, we will perform a fairness audit in order to assess whether or not the algorithm displays bias for demographic characteristics like sex."
   ]
  },
  {
   "cell_type": "markdown",
   "id": "5838bd68-92f7-4bbd-874c-00bcc537d615",
   "metadata": {},
   "source": [
    "---"
   ]
  },
  {
   "cell_type": "markdown",
   "id": "7f9113e2-898f-4738-821a-3c6965124f12",
   "metadata": {},
   "source": [
    "### Libraries and Modules\n",
    "\n",
    "Before starting, you'll want to import the following libraries and modules. We'll also be using the `folktables` package to download and organize data from the American Community Survey's Public Use Microdata Sample (PUMS)."
   ]
  },
  {
   "cell_type": "code",
   "execution_count": 64,
   "id": "6657ba59-f109-45da-afad-92c5faa27be0",
   "metadata": {},
   "outputs": [],
   "source": [
    "from folktables import ACSDataSource, ACSEmployment, BasicProblem, adult_filter\n",
    "import numpy as np\n",
    "from sklearn.model_selection import train_test_split\n",
    "import pandas as pd\n",
    "import seasborn as sns\n",
    "from sklearn.preprocessing import StandardScaler\n",
    "from sklearn.metrics import confusion_matrix\n",
    "from sklearn.model_selection import cross_val_score\n",
    "from sklearn.tree import DecisionTreeClassifier\n",
    "import matplotlib.pyplot as plt\n"
   ]
  },
  {
   "cell_type": "markdown",
   "id": "d2f6644b-f5c3-431d-b2f0-637c0995fdb3",
   "metadata": {},
   "source": [
    "---"
   ]
  },
  {
   "cell_type": "markdown",
   "id": "50093241-d74b-45c5-bea3-d34008f9eaee",
   "metadata": {},
   "source": [
    "### Data Preparation\n",
    "\n",
    "First thing we want to do is get the data for the state that we want to work with. The state we'll be working with in this blog post is Mississippi (MS) because it has the one of the highest [poverty rates](https://www.census.gov/library/stories/2023/02/state-official-poverty-rates-changed-over-10-years.html#:~:text=Mississippi%20had%20among%20the%20highest,average%20poverty%20rate%20(7.3%25)) in the country. However, any state would work as well. We add a column at the end of the data frame to indicate whether the indiviual has an income of over 50k."
   ]
  },
  {
   "cell_type": "code",
   "execution_count": 69,
   "id": "7f1b849c-f7b6-4d06-b042-698e61e32b06",
   "metadata": {},
   "outputs": [
    {
     "data": {
      "text/html": [
       "<div>\n",
       "<style scoped>\n",
       "    .dataframe tbody tr th:only-of-type {\n",
       "        vertical-align: middle;\n",
       "    }\n",
       "\n",
       "    .dataframe tbody tr th {\n",
       "        vertical-align: top;\n",
       "    }\n",
       "\n",
       "    .dataframe thead th {\n",
       "        text-align: right;\n",
       "    }\n",
       "</style>\n",
       "<table border=\"1\" class=\"dataframe\">\n",
       "  <thead>\n",
       "    <tr style=\"text-align: right;\">\n",
       "      <th></th>\n",
       "      <th>RT</th>\n",
       "      <th>SERIALNO</th>\n",
       "      <th>DIVISION</th>\n",
       "      <th>SPORDER</th>\n",
       "      <th>PUMA</th>\n",
       "      <th>REGION</th>\n",
       "      <th>ST</th>\n",
       "      <th>ADJINC</th>\n",
       "      <th>PWGTP</th>\n",
       "      <th>AGEP</th>\n",
       "      <th>...</th>\n",
       "      <th>PWGTP72</th>\n",
       "      <th>PWGTP73</th>\n",
       "      <th>PWGTP74</th>\n",
       "      <th>PWGTP75</th>\n",
       "      <th>PWGTP76</th>\n",
       "      <th>PWGTP77</th>\n",
       "      <th>PWGTP78</th>\n",
       "      <th>PWGTP79</th>\n",
       "      <th>PWGTP80</th>\n",
       "      <th>S50K</th>\n",
       "    </tr>\n",
       "  </thead>\n",
       "  <tbody>\n",
       "    <tr>\n",
       "      <th>0</th>\n",
       "      <td>P</td>\n",
       "      <td>2018GQ0000052</td>\n",
       "      <td>6</td>\n",
       "      <td>1</td>\n",
       "      <td>1700</td>\n",
       "      <td>3</td>\n",
       "      <td>28</td>\n",
       "      <td>1013097</td>\n",
       "      <td>42</td>\n",
       "      <td>51</td>\n",
       "      <td>...</td>\n",
       "      <td>80</td>\n",
       "      <td>76</td>\n",
       "      <td>81</td>\n",
       "      <td>79</td>\n",
       "      <td>43</td>\n",
       "      <td>44</td>\n",
       "      <td>80</td>\n",
       "      <td>78</td>\n",
       "      <td>5</td>\n",
       "      <td>0</td>\n",
       "    </tr>\n",
       "    <tr>\n",
       "      <th>1</th>\n",
       "      <td>P</td>\n",
       "      <td>2018GQ0000125</td>\n",
       "      <td>6</td>\n",
       "      <td>1</td>\n",
       "      <td>1100</td>\n",
       "      <td>3</td>\n",
       "      <td>28</td>\n",
       "      <td>1013097</td>\n",
       "      <td>50</td>\n",
       "      <td>64</td>\n",
       "      <td>...</td>\n",
       "      <td>45</td>\n",
       "      <td>43</td>\n",
       "      <td>77</td>\n",
       "      <td>39</td>\n",
       "      <td>6</td>\n",
       "      <td>8</td>\n",
       "      <td>6</td>\n",
       "      <td>50</td>\n",
       "      <td>6</td>\n",
       "      <td>0</td>\n",
       "    </tr>\n",
       "    <tr>\n",
       "      <th>2</th>\n",
       "      <td>P</td>\n",
       "      <td>2018GQ0000187</td>\n",
       "      <td>6</td>\n",
       "      <td>1</td>\n",
       "      <td>300</td>\n",
       "      <td>3</td>\n",
       "      <td>28</td>\n",
       "      <td>1013097</td>\n",
       "      <td>11</td>\n",
       "      <td>93</td>\n",
       "      <td>...</td>\n",
       "      <td>0</td>\n",
       "      <td>12</td>\n",
       "      <td>0</td>\n",
       "      <td>25</td>\n",
       "      <td>12</td>\n",
       "      <td>0</td>\n",
       "      <td>3</td>\n",
       "      <td>14</td>\n",
       "      <td>12</td>\n",
       "      <td>0</td>\n",
       "    </tr>\n",
       "    <tr>\n",
       "      <th>3</th>\n",
       "      <td>P</td>\n",
       "      <td>2018GQ0000190</td>\n",
       "      <td>6</td>\n",
       "      <td>1</td>\n",
       "      <td>600</td>\n",
       "      <td>3</td>\n",
       "      <td>28</td>\n",
       "      <td>1013097</td>\n",
       "      <td>38</td>\n",
       "      <td>68</td>\n",
       "      <td>...</td>\n",
       "      <td>46</td>\n",
       "      <td>41</td>\n",
       "      <td>39</td>\n",
       "      <td>39</td>\n",
       "      <td>72</td>\n",
       "      <td>41</td>\n",
       "      <td>3</td>\n",
       "      <td>73</td>\n",
       "      <td>73</td>\n",
       "      <td>0</td>\n",
       "    </tr>\n",
       "    <tr>\n",
       "      <th>4</th>\n",
       "      <td>P</td>\n",
       "      <td>2018GQ0000204</td>\n",
       "      <td>6</td>\n",
       "      <td>1</td>\n",
       "      <td>1300</td>\n",
       "      <td>3</td>\n",
       "      <td>28</td>\n",
       "      <td>1013097</td>\n",
       "      <td>21</td>\n",
       "      <td>34</td>\n",
       "      <td>...</td>\n",
       "      <td>4</td>\n",
       "      <td>4</td>\n",
       "      <td>37</td>\n",
       "      <td>19</td>\n",
       "      <td>2</td>\n",
       "      <td>40</td>\n",
       "      <td>39</td>\n",
       "      <td>22</td>\n",
       "      <td>20</td>\n",
       "      <td>0</td>\n",
       "    </tr>\n",
       "  </tbody>\n",
       "</table>\n",
       "<p>5 rows × 287 columns</p>\n",
       "</div>"
      ],
      "text/plain": [
       "  RT       SERIALNO  DIVISION  SPORDER  PUMA  REGION  ST   ADJINC  PWGTP  \\\n",
       "0  P  2018GQ0000052         6        1  1700       3  28  1013097     42   \n",
       "1  P  2018GQ0000125         6        1  1100       3  28  1013097     50   \n",
       "2  P  2018GQ0000187         6        1   300       3  28  1013097     11   \n",
       "3  P  2018GQ0000190         6        1   600       3  28  1013097     38   \n",
       "4  P  2018GQ0000204         6        1  1300       3  28  1013097     21   \n",
       "\n",
       "   AGEP  ...  PWGTP72  PWGTP73  PWGTP74  PWGTP75  PWGTP76  PWGTP77  PWGTP78  \\\n",
       "0    51  ...       80       76       81       79       43       44       80   \n",
       "1    64  ...       45       43       77       39        6        8        6   \n",
       "2    93  ...        0       12        0       25       12        0        3   \n",
       "3    68  ...       46       41       39       39       72       41        3   \n",
       "4    34  ...        4        4       37       19        2       40       39   \n",
       "\n",
       "   PWGTP79  PWGTP80  S50K  \n",
       "0       78        5     0  \n",
       "1       50        6     0  \n",
       "2       14       12     0  \n",
       "3       73       73     0  \n",
       "4       22       20     0  \n",
       "\n",
       "[5 rows x 287 columns]"
      ]
     },
     "execution_count": 69,
     "metadata": {},
     "output_type": "execute_result"
    }
   ],
   "source": [
    "STATE = \"MS\"\n",
    "\n",
    "data_source = ACSDataSource(survey_year='2018', \n",
    "                            horizon='1-Year', \n",
    "                            survey='person')\n",
    "\n",
    "acs_data = data_source.get_data(states=[STATE], download=True)\n",
    "\n",
    "#add column to indicate whether an individual is employed\n",
    "acs_data = acs_data.assign(S50K = 1 * (acs_data['PINCP'] > 50000)) \n",
    "\n",
    "acs_data.head()"
   ]
  },
  {
   "cell_type": "markdown",
   "id": "8cf24592-e9a8-418f-b090-4ef786850127",
   "metadata": {},
   "source": [
    "As you can see from the data above, there are over 280 features that we can work with. 280 features are a lot, so we will be focusing on the features below:\n",
    "\n",
    "`AGEP`: Age\n",
    "\n",
    "`COW`: Class of worker\n",
    "\n",
    "`SCHL`: Educational attainment\n",
    "\n",
    "`MAR`: Marital status\n",
    "\n",
    "`OCCP`: Occupation\n",
    "\n",
    "`POBP`: Place of birth\n",
    "\n",
    "`RELP`: Relationship\n",
    "\n",
    "`WKHP`: Usual hours worked per week past 12 months\n",
    "\n",
    "`RAC1P`: Recoded detailed race code\n",
    "\n",
    "`DIS`: Disability recode\n",
    "\n",
    "`CIT`: Citizenship status\n",
    "\n",
    "`MIG`: Mobility status (lived here 1 year ago)\n",
    "\n",
    "`MIL`: Military service\n",
    "\n",
    "`DEAR`: Hearing difficulty\n",
    "\n",
    "`DEYE`: Vision difficulty\n",
    "\n",
    "`DREM`: Cognitive difficulty\n",
    "\n",
    "`ESR`: Employment status recode"
   ]
  },
  {
   "cell_type": "code",
   "execution_count": 2,
   "id": "df9249ee-af64-4a4f-b0a5-01de33f8e941",
   "metadata": {},
   "outputs": [
    {
     "data": {
      "text/html": [
       "<div>\n",
       "<style scoped>\n",
       "    .dataframe tbody tr th:only-of-type {\n",
       "        vertical-align: middle;\n",
       "    }\n",
       "\n",
       "    .dataframe tbody tr th {\n",
       "        vertical-align: top;\n",
       "    }\n",
       "\n",
       "    .dataframe thead th {\n",
       "        text-align: right;\n",
       "    }\n",
       "</style>\n",
       "<table border=\"1\" class=\"dataframe\">\n",
       "  <thead>\n",
       "    <tr style=\"text-align: right;\">\n",
       "      <th></th>\n",
       "      <th>AGEP</th>\n",
       "      <th>COW</th>\n",
       "      <th>SCHL</th>\n",
       "      <th>MAR</th>\n",
       "      <th>OCCP</th>\n",
       "      <th>POBP</th>\n",
       "      <th>RELP</th>\n",
       "      <th>WKHP</th>\n",
       "      <th>RAC1P</th>\n",
       "      <th>DIS</th>\n",
       "      <th>MIG</th>\n",
       "      <th>CIT</th>\n",
       "      <th>MIL</th>\n",
       "      <th>NATIVITY</th>\n",
       "      <th>DEAR</th>\n",
       "      <th>DEYE</th>\n",
       "      <th>DREM</th>\n",
       "      <th>SEX</th>\n",
       "      <th>PINCP</th>\n",
       "      <th>S50K</th>\n",
       "    </tr>\n",
       "  </thead>\n",
       "  <tbody>\n",
       "    <tr>\n",
       "      <th>0</th>\n",
       "      <td>51</td>\n",
       "      <td>1.0</td>\n",
       "      <td>20.0</td>\n",
       "      <td>3</td>\n",
       "      <td>4760.0</td>\n",
       "      <td>28</td>\n",
       "      <td>16</td>\n",
       "      <td>NaN</td>\n",
       "      <td>2</td>\n",
       "      <td>1</td>\n",
       "      <td>1.0</td>\n",
       "      <td>1</td>\n",
       "      <td>4.0</td>\n",
       "      <td>1</td>\n",
       "      <td>2</td>\n",
       "      <td>2</td>\n",
       "      <td>2.0</td>\n",
       "      <td>1</td>\n",
       "      <td>0.0</td>\n",
       "      <td>0</td>\n",
       "    </tr>\n",
       "    <tr>\n",
       "      <th>1</th>\n",
       "      <td>64</td>\n",
       "      <td>NaN</td>\n",
       "      <td>16.0</td>\n",
       "      <td>3</td>\n",
       "      <td>NaN</td>\n",
       "      <td>28</td>\n",
       "      <td>17</td>\n",
       "      <td>NaN</td>\n",
       "      <td>1</td>\n",
       "      <td>1</td>\n",
       "      <td>1.0</td>\n",
       "      <td>1</td>\n",
       "      <td>4.0</td>\n",
       "      <td>1</td>\n",
       "      <td>2</td>\n",
       "      <td>2</td>\n",
       "      <td>1.0</td>\n",
       "      <td>1</td>\n",
       "      <td>15000.0</td>\n",
       "      <td>0</td>\n",
       "    </tr>\n",
       "    <tr>\n",
       "      <th>2</th>\n",
       "      <td>93</td>\n",
       "      <td>NaN</td>\n",
       "      <td>5.0</td>\n",
       "      <td>2</td>\n",
       "      <td>NaN</td>\n",
       "      <td>28</td>\n",
       "      <td>16</td>\n",
       "      <td>NaN</td>\n",
       "      <td>2</td>\n",
       "      <td>1</td>\n",
       "      <td>1.0</td>\n",
       "      <td>1</td>\n",
       "      <td>4.0</td>\n",
       "      <td>1</td>\n",
       "      <td>2</td>\n",
       "      <td>2</td>\n",
       "      <td>2.0</td>\n",
       "      <td>1</td>\n",
       "      <td>6700.0</td>\n",
       "      <td>0</td>\n",
       "    </tr>\n",
       "    <tr>\n",
       "      <th>3</th>\n",
       "      <td>68</td>\n",
       "      <td>NaN</td>\n",
       "      <td>1.0</td>\n",
       "      <td>5</td>\n",
       "      <td>NaN</td>\n",
       "      <td>28</td>\n",
       "      <td>16</td>\n",
       "      <td>NaN</td>\n",
       "      <td>1</td>\n",
       "      <td>1</td>\n",
       "      <td>1.0</td>\n",
       "      <td>1</td>\n",
       "      <td>4.0</td>\n",
       "      <td>1</td>\n",
       "      <td>2</td>\n",
       "      <td>2</td>\n",
       "      <td>1.0</td>\n",
       "      <td>1</td>\n",
       "      <td>5800.0</td>\n",
       "      <td>0</td>\n",
       "    </tr>\n",
       "    <tr>\n",
       "      <th>4</th>\n",
       "      <td>34</td>\n",
       "      <td>NaN</td>\n",
       "      <td>1.0</td>\n",
       "      <td>5</td>\n",
       "      <td>NaN</td>\n",
       "      <td>28</td>\n",
       "      <td>17</td>\n",
       "      <td>NaN</td>\n",
       "      <td>2</td>\n",
       "      <td>1</td>\n",
       "      <td>1.0</td>\n",
       "      <td>1</td>\n",
       "      <td>4.0</td>\n",
       "      <td>1</td>\n",
       "      <td>2</td>\n",
       "      <td>2</td>\n",
       "      <td>1.0</td>\n",
       "      <td>1</td>\n",
       "      <td>530.0</td>\n",
       "      <td>0</td>\n",
       "    </tr>\n",
       "  </tbody>\n",
       "</table>\n",
       "</div>"
      ],
      "text/plain": [
       "   AGEP  COW  SCHL  MAR    OCCP  POBP  RELP  WKHP  RAC1P  DIS  MIG  CIT  MIL  \\\n",
       "0    51  1.0  20.0    3  4760.0    28    16   NaN      2    1  1.0    1  4.0   \n",
       "1    64  NaN  16.0    3     NaN    28    17   NaN      1    1  1.0    1  4.0   \n",
       "2    93  NaN   5.0    2     NaN    28    16   NaN      2    1  1.0    1  4.0   \n",
       "3    68  NaN   1.0    5     NaN    28    16   NaN      1    1  1.0    1  4.0   \n",
       "4    34  NaN   1.0    5     NaN    28    17   NaN      2    1  1.0    1  4.0   \n",
       "\n",
       "   NATIVITY  DEAR  DEYE  DREM  SEX    PINCP  S50K  \n",
       "0         1     2     2   2.0    1      0.0     0  \n",
       "1         1     2     2   1.0    1  15000.0     0  \n",
       "2         1     2     2   2.0    1   6700.0     0  \n",
       "3         1     2     2   1.0    1   5800.0     0  \n",
       "4         1     2     2   1.0    1    530.0     0  "
      ]
     },
     "execution_count": 2,
     "metadata": {},
     "output_type": "execute_result"
    }
   ],
   "source": [
    "p_feat = ['AGEP', 'COW', 'SCHL', 'MAR', 'OCCP', 'POBP', 'RELP', 'WKHP', 'RAC1P', 'DIS', 'MIG', 'CIT', 'MIL', 'NATIVITY', 'DEAR', 'DEYE', 'DREM', 'SEX', 'PINCP', 'S50K']\n",
    "acs_data[p_feat].head()"
   ]
  },
  {
   "cell_type": "markdown",
   "id": "e541c52a-60e7-4c33-ac82-e7314b52cedd",
   "metadata": {},
   "source": [
    "We will not include `SEX`, `PINCP`, and `S50K`, since our group choice is sex (we will evaluate bias against) and salary is our target variable."
   ]
  },
  {
   "cell_type": "code",
   "execution_count": 4,
   "id": "a1ef6a73-1065-4059-a5b5-fe3d3c9c9854",
   "metadata": {},
   "outputs": [],
   "source": [
    "features_to_use = [f for f in p_feat if f not in ['SEX', 'PINCP', 'S50K']]"
   ]
  },
  {
   "cell_type": "markdown",
   "id": "fdab457e-93db-4ec1-9e3b-708de5d05d23",
   "metadata": {},
   "source": [
    "Now that we have our features, we will construct a `BasicProblem` that will allow us to use these features to predict whether an individual makes over 50k. `SEX` will be our group label, and `S50K` will be our target."
   ]
  },
  {
   "cell_type": "code",
   "execution_count": 5,
   "id": "22e39d52-f4fd-4df2-8d7c-d6389ed5a010",
   "metadata": {},
   "outputs": [],
   "source": [
    "SalaryProblem = BasicProblem(\n",
    "    features=features_to_use,\n",
    "    target='S50K',\n",
    "    target_transform=lambda x: x == 1,\n",
    "    group='SEX',\n",
    "    preprocess=lambda x: x,\n",
    "    postprocess=lambda x: np.nan_to_num(x, -1),\n",
    ")\n",
    "\n",
    "features, label, group = SalaryProblem.df_to_numpy(acs_data)"
   ]
  },
  {
   "cell_type": "markdown",
   "id": "52c83ff5-c286-4785-b544-3e16cca2c18a",
   "metadata": {},
   "source": [
    "The result is a feature matrix `features` in a format that we can work with"
   ]
  },
  {
   "cell_type": "code",
   "execution_count": 6,
   "id": "2a1123f3-54f9-443e-971a-8dce07dd9fa4",
   "metadata": {},
   "outputs": [
    {
     "name": "stdout",
     "output_type": "stream",
     "text": [
      "(29124, 17)\n",
      "(29124,)\n",
      "(29124,)\n"
     ]
    }
   ],
   "source": [
    "for obj in [features, label, group]:\n",
    "  print(obj.shape)"
   ]
  },
  {
   "cell_type": "markdown",
   "id": "9d3525b2-a16d-49c6-9130-0f5c3f557e9a",
   "metadata": {},
   "source": [
    "We now want to split the data using `train_test_split`."
   ]
  },
  {
   "cell_type": "code",
   "execution_count": 70,
   "id": "02e3d26e-4e8b-4fa4-b93a-b65798663e85",
   "metadata": {},
   "outputs": [],
   "source": [
    "X_train, X_test, y_train, y_test, group_train, group_test = train_test_split(\n",
    "    features, label, group, test_size=0.2, random_state=0)"
   ]
  },
  {
   "cell_type": "markdown",
   "id": "f0c5db1d-2f21-4232-b46b-b9eccaca78b7",
   "metadata": {},
   "source": [
    "---"
   ]
  },
  {
   "cell_type": "markdown",
   "id": "8d1ed023-2fc8-4dda-a0df-77518a1f1149",
   "metadata": {},
   "source": [
    "### Basic Descriptives\n",
    "\n",
    "We will use simple descriptive analysis to learn more about our data. We first want to inspect how many individuals we'll be working with."
   ]
  },
  {
   "cell_type": "code",
   "execution_count": 73,
   "id": "cf5f1af3-c314-494c-8562-5bdfa1823d18",
   "metadata": {},
   "outputs": [
    {
     "data": {
      "text/plain": [
       "(23299, 19)"
      ]
     },
     "execution_count": 73,
     "metadata": {},
     "output_type": "execute_result"
    }
   ],
   "source": [
    "df = pd.DataFrame(X_train, columns = features_to_use)\n",
    "df['SEX'] = group_train\n",
    "df['>50k'] = y_train\n",
    "\n",
    "df.shape"
   ]
  },
  {
   "cell_type": "markdown",
   "id": "8348719c-a4a7-4275-abff-baaa9a9fac6b",
   "metadata": {},
   "source": [
    "Based on the dimensions of our data frame, we will have 23299 individuals. We then want to figure out the proportion of individuals who have an income of over 50k."
   ]
  },
  {
   "cell_type": "code",
   "execution_count": 17,
   "id": "ddc8ee0d-848a-41da-95de-8af1a8ee4d34",
   "metadata": {},
   "outputs": [
    {
     "data": {
      "text/html": [
       "<div>\n",
       "<style scoped>\n",
       "    .dataframe tbody tr th:only-of-type {\n",
       "        vertical-align: middle;\n",
       "    }\n",
       "\n",
       "    .dataframe tbody tr th {\n",
       "        vertical-align: top;\n",
       "    }\n",
       "\n",
       "    .dataframe thead th {\n",
       "        text-align: right;\n",
       "    }\n",
       "</style>\n",
       "<table border=\"1\" class=\"dataframe\">\n",
       "  <thead>\n",
       "    <tr style=\"text-align: right;\">\n",
       "      <th></th>\n",
       "      <th>&gt;50k</th>\n",
       "      <th>count</th>\n",
       "      <th>%</th>\n",
       "    </tr>\n",
       "  </thead>\n",
       "  <tbody>\n",
       "    <tr>\n",
       "      <th>0</th>\n",
       "      <td>False</td>\n",
       "      <td>19955</td>\n",
       "      <td>85.65</td>\n",
       "    </tr>\n",
       "    <tr>\n",
       "      <th>1</th>\n",
       "      <td>True</td>\n",
       "      <td>3344</td>\n",
       "      <td>14.35</td>\n",
       "    </tr>\n",
       "  </tbody>\n",
       "</table>\n",
       "</div>"
      ],
      "text/plain": [
       "    >50k  count      %\n",
       "0  False  19955  85.65\n",
       "1   True   3344  14.35"
      ]
     },
     "execution_count": 17,
     "metadata": {},
     "output_type": "execute_result"
    }
   ],
   "source": [
    "over_50k = df.groupby(['>50k']).size().reset_index(name = 'count')\n",
    "over_50k['%'] = (over_50k['count'] / len(df.index) * 100).round(2)\n",
    "\n",
    "over_50k    "
   ]
  },
  {
   "cell_type": "markdown",
   "id": "92686c76-ba1f-431a-ae1d-2e30f887dbe8",
   "metadata": {},
   "source": [
    "Here we can see that only 3,344 people out of 23,299 in Mississippi (14.35%) have an income over 50k. Next, we want to inspect how many of this 14.35% are males and how many are females."
   ]
  },
  {
   "cell_type": "code",
   "execution_count": 23,
   "id": "2282cdc2-6f7b-4c81-827d-b06605dd4be0",
   "metadata": {},
   "outputs": [
    {
     "data": {
      "text/html": [
       "<div>\n",
       "<style scoped>\n",
       "    .dataframe tbody tr th:only-of-type {\n",
       "        vertical-align: middle;\n",
       "    }\n",
       "\n",
       "    .dataframe tbody tr th {\n",
       "        vertical-align: top;\n",
       "    }\n",
       "\n",
       "    .dataframe thead th {\n",
       "        text-align: right;\n",
       "    }\n",
       "</style>\n",
       "<table border=\"1\" class=\"dataframe\">\n",
       "  <thead>\n",
       "    <tr style=\"text-align: right;\">\n",
       "      <th></th>\n",
       "      <th>SEX</th>\n",
       "      <th>count</th>\n",
       "      <th>%</th>\n",
       "    </tr>\n",
       "  </thead>\n",
       "  <tbody>\n",
       "    <tr>\n",
       "      <th>0</th>\n",
       "      <td>1</td>\n",
       "      <td>2213</td>\n",
       "      <td>66.18</td>\n",
       "    </tr>\n",
       "    <tr>\n",
       "      <th>1</th>\n",
       "      <td>2</td>\n",
       "      <td>1131</td>\n",
       "      <td>33.82</td>\n",
       "    </tr>\n",
       "  </tbody>\n",
       "</table>\n",
       "</div>"
      ],
      "text/plain": [
       "   SEX  count      %\n",
       "0    1   2213  66.18\n",
       "1    2   1131  33.82"
      ]
     },
     "execution_count": 23,
     "metadata": {},
     "output_type": "execute_result"
    }
   ],
   "source": [
    "f_df = df[df['>50k'] == True]\n",
    "\n",
    "over_50k_s = f_df.groupby(['SEX']).size().reset_index(name = 'count')\n",
    "over_50k_s['%'] = ((over_50k_s['count'] / len(f_df.index)) * 100).round(2)\n",
    "\n",
    "over_50k_s"
   ]
  },
  {
   "cell_type": "markdown",
   "id": "0c087a4b-8906-45c8-9770-0938939133ad",
   "metadata": {},
   "source": [
    "From our data frame, we learn that of the 14.35% who are making over 50k, about 66.18% of them are males while 33.82% are females. Next, we want to look at the separate sex groups-- we want to find out the proportion of males who are making over 50k, and the proportion of females who are making over 50k."
   ]
  },
  {
   "cell_type": "code",
   "execution_count": 21,
   "id": "7d96f58c-0cec-4e3b-a69a-b1833cb8c412",
   "metadata": {},
   "outputs": [
    {
     "data": {
      "text/html": [
       "<div>\n",
       "<style scoped>\n",
       "    .dataframe tbody tr th:only-of-type {\n",
       "        vertical-align: middle;\n",
       "    }\n",
       "\n",
       "    .dataframe tbody tr th {\n",
       "        vertical-align: top;\n",
       "    }\n",
       "\n",
       "    .dataframe thead th {\n",
       "        text-align: right;\n",
       "    }\n",
       "</style>\n",
       "<table border=\"1\" class=\"dataframe\">\n",
       "  <thead>\n",
       "    <tr style=\"text-align: right;\">\n",
       "      <th></th>\n",
       "      <th>&gt;50k</th>\n",
       "      <th>count</th>\n",
       "      <th>percent</th>\n",
       "    </tr>\n",
       "  </thead>\n",
       "  <tbody>\n",
       "    <tr>\n",
       "      <th>0</th>\n",
       "      <td>False</td>\n",
       "      <td>8857</td>\n",
       "      <td>80.01</td>\n",
       "    </tr>\n",
       "    <tr>\n",
       "      <th>1</th>\n",
       "      <td>True</td>\n",
       "      <td>2213</td>\n",
       "      <td>19.99</td>\n",
       "    </tr>\n",
       "  </tbody>\n",
       "</table>\n",
       "</div>"
      ],
      "text/plain": [
       "    >50k  count  percent\n",
       "0  False   8857    80.01\n",
       "1   True   2213    19.99"
      ]
     },
     "execution_count": 21,
     "metadata": {},
     "output_type": "execute_result"
    }
   ],
   "source": [
    "f_df = df[df['SEX'] == 1]\n",
    "\n",
    "male = f_df.groupby(['>50k']).size().reset_index(name = 'count')\n",
    "male['percent'] = ((male['count'] / len(f_df.index)) * 100).round(2)\n",
    "\n",
    "male"
   ]
  },
  {
   "cell_type": "markdown",
   "id": "3a725e8e-ad24-4240-b3e1-025a6fc851e3",
   "metadata": {},
   "source": [
    "The table above is of the male group. About 20% of males make over 50k."
   ]
  },
  {
   "cell_type": "code",
   "execution_count": 25,
   "id": "441cf3e7-9ae5-455e-b98a-ee5531f49ae2",
   "metadata": {},
   "outputs": [
    {
     "data": {
      "text/html": [
       "<div>\n",
       "<style scoped>\n",
       "    .dataframe tbody tr th:only-of-type {\n",
       "        vertical-align: middle;\n",
       "    }\n",
       "\n",
       "    .dataframe tbody tr th {\n",
       "        vertical-align: top;\n",
       "    }\n",
       "\n",
       "    .dataframe thead th {\n",
       "        text-align: right;\n",
       "    }\n",
       "</style>\n",
       "<table border=\"1\" class=\"dataframe\">\n",
       "  <thead>\n",
       "    <tr style=\"text-align: right;\">\n",
       "      <th></th>\n",
       "      <th>&gt;50k</th>\n",
       "      <th>count</th>\n",
       "      <th>percent</th>\n",
       "    </tr>\n",
       "  </thead>\n",
       "  <tbody>\n",
       "    <tr>\n",
       "      <th>0</th>\n",
       "      <td>False</td>\n",
       "      <td>11098</td>\n",
       "      <td>90.75</td>\n",
       "    </tr>\n",
       "    <tr>\n",
       "      <th>1</th>\n",
       "      <td>True</td>\n",
       "      <td>1131</td>\n",
       "      <td>9.25</td>\n",
       "    </tr>\n",
       "  </tbody>\n",
       "</table>\n",
       "</div>"
      ],
      "text/plain": [
       "    >50k  count  percent\n",
       "0  False  11098    90.75\n",
       "1   True   1131     9.25"
      ]
     },
     "execution_count": 25,
     "metadata": {},
     "output_type": "execute_result"
    }
   ],
   "source": [
    "f_df = df[df['SEX'] == 2]\n",
    "\n",
    "female = f_df.groupby(['>50k']).size().reset_index(name = 'count')\n",
    "female['percent'] = ((female['count'] / len(f_df.index)) * 100).round(2)\n",
    "\n",
    "female"
   ]
  },
  {
   "cell_type": "markdown",
   "id": "1740e3fb-97cb-4bb3-a6b0-6e19eb68462e",
   "metadata": {},
   "source": [
    "The table above is of the female group. About 9.25% of females make over 50k. We will also check for intersectional trends by computing the proportion of positive labels by both sex and race."
   ]
  },
  {
   "cell_type": "code",
   "execution_count": 74,
   "id": "1177a914-7e69-47bb-8c63-b8eb363e9abe",
   "metadata": {},
   "outputs": [
    {
     "data": {
      "text/html": [
       "<div>\n",
       "<style scoped>\n",
       "    .dataframe tbody tr th:only-of-type {\n",
       "        vertical-align: middle;\n",
       "    }\n",
       "\n",
       "    .dataframe tbody tr th {\n",
       "        vertical-align: top;\n",
       "    }\n",
       "\n",
       "    .dataframe thead th {\n",
       "        text-align: right;\n",
       "    }\n",
       "</style>\n",
       "<table border=\"1\" class=\"dataframe\">\n",
       "  <thead>\n",
       "    <tr style=\"text-align: right;\">\n",
       "      <th></th>\n",
       "      <th>SEX</th>\n",
       "      <th>RAC1P</th>\n",
       "      <th>count</th>\n",
       "      <th>%</th>\n",
       "    </tr>\n",
       "  </thead>\n",
       "  <tbody>\n",
       "    <tr>\n",
       "      <th>0</th>\n",
       "      <td>1</td>\n",
       "      <td>1.0</td>\n",
       "      <td>1811</td>\n",
       "      <td>54.16</td>\n",
       "    </tr>\n",
       "    <tr>\n",
       "      <th>1</th>\n",
       "      <td>1</td>\n",
       "      <td>2.0</td>\n",
       "      <td>335</td>\n",
       "      <td>10.02</td>\n",
       "    </tr>\n",
       "    <tr>\n",
       "      <th>2</th>\n",
       "      <td>1</td>\n",
       "      <td>3.0</td>\n",
       "      <td>6</td>\n",
       "      <td>0.18</td>\n",
       "    </tr>\n",
       "    <tr>\n",
       "      <th>3</th>\n",
       "      <td>1</td>\n",
       "      <td>6.0</td>\n",
       "      <td>26</td>\n",
       "      <td>0.78</td>\n",
       "    </tr>\n",
       "    <tr>\n",
       "      <th>4</th>\n",
       "      <td>1</td>\n",
       "      <td>8.0</td>\n",
       "      <td>13</td>\n",
       "      <td>0.39</td>\n",
       "    </tr>\n",
       "    <tr>\n",
       "      <th>5</th>\n",
       "      <td>1</td>\n",
       "      <td>9.0</td>\n",
       "      <td>22</td>\n",
       "      <td>0.66</td>\n",
       "    </tr>\n",
       "    <tr>\n",
       "      <th>6</th>\n",
       "      <td>2</td>\n",
       "      <td>1.0</td>\n",
       "      <td>872</td>\n",
       "      <td>26.08</td>\n",
       "    </tr>\n",
       "    <tr>\n",
       "      <th>7</th>\n",
       "      <td>2</td>\n",
       "      <td>2.0</td>\n",
       "      <td>232</td>\n",
       "      <td>6.94</td>\n",
       "    </tr>\n",
       "    <tr>\n",
       "      <th>8</th>\n",
       "      <td>2</td>\n",
       "      <td>3.0</td>\n",
       "      <td>1</td>\n",
       "      <td>0.03</td>\n",
       "    </tr>\n",
       "    <tr>\n",
       "      <th>9</th>\n",
       "      <td>2</td>\n",
       "      <td>6.0</td>\n",
       "      <td>15</td>\n",
       "      <td>0.45</td>\n",
       "    </tr>\n",
       "    <tr>\n",
       "      <th>10</th>\n",
       "      <td>2</td>\n",
       "      <td>8.0</td>\n",
       "      <td>1</td>\n",
       "      <td>0.03</td>\n",
       "    </tr>\n",
       "    <tr>\n",
       "      <th>11</th>\n",
       "      <td>2</td>\n",
       "      <td>9.0</td>\n",
       "      <td>10</td>\n",
       "      <td>0.30</td>\n",
       "    </tr>\n",
       "  </tbody>\n",
       "</table>\n",
       "</div>"
      ],
      "text/plain": [
       "    SEX  RAC1P  count      %\n",
       "0     1    1.0   1811  54.16\n",
       "1     1    2.0    335  10.02\n",
       "2     1    3.0      6   0.18\n",
       "3     1    6.0     26   0.78\n",
       "4     1    8.0     13   0.39\n",
       "5     1    9.0     22   0.66\n",
       "6     2    1.0    872  26.08\n",
       "7     2    2.0    232   6.94\n",
       "8     2    3.0      1   0.03\n",
       "9     2    6.0     15   0.45\n",
       "10    2    8.0      1   0.03\n",
       "11    2    9.0     10   0.30"
      ]
     },
     "execution_count": 74,
     "metadata": {},
     "output_type": "execute_result"
    }
   ],
   "source": [
    "f_df = df[df['>50k'] == 1]\n",
    "\n",
    "inter = f_df.groupby(['SEX', 'RAC1P']).size().reset_index(name = 'count')\n",
    "inter['%'] = ((inter['count'] / len(f_df.index)) * 100).round(2)\n",
    "\n",
    "inter\n"
   ]
  },
  {
   "cell_type": "code",
   "execution_count": 75,
   "id": "ea5edcf8-80c1-403f-ae0f-1f322844bfdc",
   "metadata": {},
   "outputs": [
    {
     "data": {
      "text/plain": [
       "[Text(0.5, 1.0, 'Percentage of People with Income >50k by Sex and Race')]"
      ]
     },
     "execution_count": 75,
     "metadata": {},
     "output_type": "execute_result"
    },
    {
     "data": {
      "image/png": "[encoded data removed]",
      "text/plain": [
       "<Figure size 640x480 with 1 Axes>"
      ]
     },
     "metadata": {},
     "output_type": "display_data"
    }
   ],
   "source": [
    "sns.set_style('whitegrid')\n",
    "sns.barplot(x = 'RAC1P', y = '%', hue = 'SEX', data = inter).set(title = 'Percentage of People with Income >50k by Sex and Race')"
   ]
  },
  {
   "cell_type": "markdown",
   "id": "fac71f22-f11b-4eac-ae1a-af747542221f",
   "metadata": {},
   "source": [
    "We created a table and a bar plot to visualize the percentage of people with income of over 50k grouped by their sex and race. Based on the graph, we can see that over 50% of white males make more than 50k. This is followed by white females, black or African American males, and black or African American females.\n",
    "\n",
    "---"
   ]
  },
  {
   "cell_type": "markdown",
   "id": "f85e5d62-7799-446b-9a5d-2b88bff397f5",
   "metadata": {},
   "source": [
    "### Train Our Model\n",
    "\n",
    "For our model, we'll be using `DecisionTreeClassifier`. Since this model requires a specified `max_depth`, we will use cross validation to find it. After finding the `max_depth`, we will use it to create our model."
   ]
  },
  {
   "cell_type": "code",
   "execution_count": 95,
   "id": "62fd1a8c-542f-4b2a-aee4-49d1c2f42a1d",
   "metadata": {},
   "outputs": [
    {
     "data": {
      "image/png": "[encoded data removed]",
      "text/plain": [
       "<Figure size 640x480 with 1 Axes>"
      ]
     },
     "metadata": {},
     "output_type": "display_data"
    }
   ],
   "source": [
    "plt.figure()\n",
    "\n",
    "max_score = 0\n",
    "best_depth = 0\n",
    "for d in range(2, 20):\n",
    "    T = DecisionTreeClassifier(max_depth=d)\n",
    "    cv_mean = cross_val_score(T, X_train, y_train, cv=10).mean()\n",
    "    plt.plot(d, cv_mean, 'bo')\n",
    "    if cv_mean > max_score:\n",
    "        max_score = cv_mean\n",
    "        best_depth = d\n",
    "\n",
    "plt.xlabel('Complexity (depth)')\n",
    "plt.ylabel('Performance (score)')\n",
    "plt.show()"
   ]
  },
  {
   "cell_type": "code",
   "execution_count": 98,
   "id": "d50a14ec-5316-40aa-8c07-5ea96c0f3cc9",
   "metadata": {},
   "outputs": [
    {
     "data": {
      "text/html": [
       "<style>#sk-container-id-10 {color: black;background-color: white;}#sk-container-id-10 pre{padding: 0;}#sk-container-id-10 div.sk-toggleable {background-color: white;}#sk-container-id-10 label.sk-toggleable__label {cursor: pointer;display: block;width: 100%;margin-bottom: 0;padding: 0.3em;box-sizing: border-box;text-align: center;}#sk-container-id-10 label.sk-toggleable__label-arrow:before {content: \"▸\";float: left;margin-right: 0.25em;color: #696969;}#sk-container-id-10 label.sk-toggleable__label-arrow:hover:before {color: black;}#sk-container-id-10 div.sk-estimator:hover label.sk-toggleable__label-arrow:before {color: black;}#sk-container-id-10 div.sk-toggleable__content {max-height: 0;max-width: 0;overflow: hidden;text-align: left;background-color: #f0f8ff;}#sk-container-id-10 div.sk-toggleable__content pre {margin: 0.2em;color: black;border-radius: 0.25em;background-color: #f0f8ff;}#sk-container-id-10 input.sk-toggleable__control:checked~div.sk-toggleable__content {max-height: 200px;max-width: 100%;overflow: auto;}#sk-container-id-10 input.sk-toggleable__control:checked~label.sk-toggleable__label-arrow:before {content: \"▾\";}#sk-container-id-10 div.sk-estimator input.sk-toggleable__control:checked~label.sk-toggleable__label {background-color: #d4ebff;}#sk-container-id-10 div.sk-label input.sk-toggleable__control:checked~label.sk-toggleable__label {background-color: #d4ebff;}#sk-container-id-10 input.sk-hidden--visually {border: 0;clip: rect(1px 1px 1px 1px);clip: rect(1px, 1px, 1px, 1px);height: 1px;margin: -1px;overflow: hidden;padding: 0;position: absolute;width: 1px;}#sk-container-id-10 div.sk-estimator {font-family: monospace;background-color: #f0f8ff;border: 1px dotted black;border-radius: 0.25em;box-sizing: border-box;margin-bottom: 0.5em;}#sk-container-id-10 div.sk-estimator:hover {background-color: #d4ebff;}#sk-container-id-10 div.sk-parallel-item::after {content: \"\";width: 100%;border-bottom: 1px solid gray;flex-grow: 1;}#sk-container-id-10 div.sk-label:hover label.sk-toggleable__label {background-color: #d4ebff;}#sk-container-id-10 div.sk-serial::before {content: \"\";position: absolute;border-left: 1px solid gray;box-sizing: border-box;top: 0;bottom: 0;left: 50%;z-index: 0;}#sk-container-id-10 div.sk-serial {display: flex;flex-direction: column;align-items: center;background-color: white;padding-right: 0.2em;padding-left: 0.2em;position: relative;}#sk-container-id-10 div.sk-item {position: relative;z-index: 1;}#sk-container-id-10 div.sk-parallel {display: flex;align-items: stretch;justify-content: center;background-color: white;position: relative;}#sk-container-id-10 div.sk-item::before, #sk-container-id-10 div.sk-parallel-item::before {content: \"\";position: absolute;border-left: 1px solid gray;box-sizing: border-box;top: 0;bottom: 0;left: 50%;z-index: -1;}#sk-container-id-10 div.sk-parallel-item {display: flex;flex-direction: column;z-index: 1;position: relative;background-color: white;}#sk-container-id-10 div.sk-parallel-item:first-child::after {align-self: flex-end;width: 50%;}#sk-container-id-10 div.sk-parallel-item:last-child::after {align-self: flex-start;width: 50%;}#sk-container-id-10 div.sk-parallel-item:only-child::after {width: 0;}#sk-container-id-10 div.sk-dashed-wrapped {border: 1px dashed gray;margin: 0 0.4em 0.5em 0.4em;box-sizing: border-box;padding-bottom: 0.4em;background-color: white;}#sk-container-id-10 div.sk-label label {font-family: monospace;font-weight: bold;display: inline-block;line-height: 1.2em;}#sk-container-id-10 div.sk-label-container {text-align: center;}#sk-container-id-10 div.sk-container {/* jupyter's `normalize.less` sets `[hidden] { display: none; }` but bootstrap.min.css set `[hidden] { display: none !important; }` so we also need the `!important` here to be able to override the default hidden behavior on the sphinx rendered scikit-learn.org. See: https://github.com/scikit-learn/scikit-learn/issues/21755 */display: inline-block !important;position: relative;}#sk-container-id-10 div.sk-text-repr-fallback {display: none;}</style><div id=\"sk-container-id-10\" class=\"sk-top-container\"><div class=\"sk-text-repr-fallback\"><pre>Pipeline(steps=[(&#x27;standardscaler&#x27;, StandardScaler()),\n",
       "                (&#x27;decisiontreeclassifier&#x27;,\n",
       "                 DecisionTreeClassifier(max_depth=6))])</pre><b>In a Jupyter environment, please rerun this cell to show the HTML representation or trust the notebook. <br />On GitHub, the HTML representation is unable to render, please try loading this page with nbviewer.org.</b></div><div class=\"sk-container\" hidden><div class=\"sk-item sk-dashed-wrapped\"><div class=\"sk-label-container\"><div class=\"sk-label sk-toggleable\"><input class=\"sk-toggleable__control sk-hidden--visually\" id=\"sk-estimator-id-25\" type=\"checkbox\" ><label for=\"sk-estimator-id-25\" class=\"sk-toggleable__label sk-toggleable__label-arrow\">Pipeline</label><div class=\"sk-toggleable__content\"><pre>Pipeline(steps=[(&#x27;standardscaler&#x27;, StandardScaler()),\n",
       "                (&#x27;decisiontreeclassifier&#x27;,\n",
       "                 DecisionTreeClassifier(max_depth=6))])</pre></div></div></div><div class=\"sk-serial\"><div class=\"sk-item\"><div class=\"sk-estimator sk-toggleable\"><input class=\"sk-toggleable__control sk-hidden--visually\" id=\"sk-estimator-id-26\" type=\"checkbox\" ><label for=\"sk-estimator-id-26\" class=\"sk-toggleable__label sk-toggleable__label-arrow\">StandardScaler</label><div class=\"sk-toggleable__content\"><pre>StandardScaler()</pre></div></div></div><div class=\"sk-item\"><div class=\"sk-estimator sk-toggleable\"><input class=\"sk-toggleable__control sk-hidden--visually\" id=\"sk-estimator-id-27\" type=\"checkbox\" ><label for=\"sk-estimator-id-27\" class=\"sk-toggleable__label sk-toggleable__label-arrow\">DecisionTreeClassifier</label><div class=\"sk-toggleable__content\"><pre>DecisionTreeClassifier(max_depth=6)</pre></div></div></div></div></div></div></div>"
      ],
      "text/plain": [
       "Pipeline(steps=[('standardscaler', StandardScaler()),\n",
       "                ('decisiontreeclassifier',\n",
       "                 DecisionTreeClassifier(max_depth=6))])"
      ]
     },
     "execution_count": 98,
     "metadata": {},
     "output_type": "execute_result"
    }
   ],
   "source": [
    "from sklearn.pipeline import make_pipeline\n",
    "from sklearn.preprocessing import StandardScaler\n",
    "\n",
    "dt = DecisionTreeClassifier(max_depth = best_depth)\n",
    "model = make_pipeline(StandardScaler(), dt)\n",
    "\n",
    "model.fit(X_train, y_train)"
   ]
  },
  {
   "cell_type": "markdown",
   "id": "49c6cf9a-f20d-438d-837f-739fb651311c",
   "metadata": {},
   "source": [
    "We will define a function that'll compute the positive predictive values (PPV), false negative rate (FNR), and false positive rate (FPR)."
   ]
  },
  {
   "cell_type": "code",
   "execution_count": 99,
   "id": "06ea60e8-e2bd-4dde-adcf-824f214d8b95",
   "metadata": {},
   "outputs": [],
   "source": [
    "def PPV_FNR_FPR(data, predictions):\n",
    "    confusion = confusion_matrix(data, predictions)\n",
    "    TP = confusion[1][1]\n",
    "    TN = confusion[0][0]\n",
    "    FP = confusion[0][1]\n",
    "    FN = confusion[1][0]\n",
    "    PPV = TP / (TP + FP)\n",
    "    print(f\"{PPV=}\")\n",
    "    FNR = FN / (FN + TP)\n",
    "    print(f\"{FNR=}\")\n",
    "    FPR = FP / (FP + TN)\n",
    "    print(f\"{FPR=}\")"
   ]
  },
  {
   "cell_type": "code",
   "execution_count": 100,
   "id": "26d43868-b718-444c-8595-e4d4d53b3982",
   "metadata": {},
   "outputs": [],
   "source": [
    "y_hat = model.predict(X_test)"
   ]
  },
  {
   "cell_type": "markdown",
   "id": "11afd6a6-0697-4ed4-aee0-69b6ee02d571",
   "metadata": {},
   "source": [
    "---"
   ]
  },
  {
   "cell_type": "markdown",
   "id": "261c2cff-ca01-4af6-845d-e9d124b323a5",
   "metadata": {},
   "source": [
    "### Audit Our Model\n",
    "\n",
    "We want to perform an audit to address the overall measures:\n",
    "\n",
    "    1. What is the overall accuracy of our model?\n",
    "    2. What is the positive predictive value (PPV) of our model?\n",
    "    3. What are the overall false negative and false positive rates (FNR and FPR) of our model?\n",
    "    \n",
    "as well as the by-group measures:\n",
    "\n",
    "    1. What is the accuracy of our model on each subgroup?\n",
    "    2. What is the PPV of our model on each subgroup?\n",
    "    3. What are the FNR and FPR on each subgroup?"
   ]
  },
  {
   "cell_type": "code",
   "execution_count": 102,
   "id": "8ee85c45-a70a-4b8a-8672-4e07b578ace7",
   "metadata": {},
   "outputs": [
    {
     "data": {
      "text/plain": [
       "0.8817167381974249"
      ]
     },
     "execution_count": 102,
     "metadata": {},
     "output_type": "execute_result"
    }
   ],
   "source": [
    "# Overall accuracy\n",
    "(y_hat == y_test).mean()"
   ]
  },
  {
   "cell_type": "code",
   "execution_count": 103,
   "id": "51162a78-f7a9-47bf-bed1-6ac1d8bcf7b8",
   "metadata": {},
   "outputs": [
    {
     "name": "stdout",
     "output_type": "stream",
     "text": [
      "PPV=0.6381818181818182\n",
      "FNR=0.582639714625446\n",
      "FPR=0.03992776886035313\n"
     ]
    }
   ],
   "source": [
    "# PPV, FNR, and FPR (overall)\n",
    "PPV_FNR_FPR(y_test, y_hat)"
   ]
  },
  {
   "cell_type": "code",
   "execution_count": 104,
   "id": "ea5c5eb9-87df-4178-a9f6-1d2fe07bf4d7",
   "metadata": {},
   "outputs": [
    {
     "data": {
      "text/plain": [
       "0.8524822695035461"
      ]
     },
     "execution_count": 104,
     "metadata": {},
     "output_type": "execute_result"
    }
   ],
   "source": [
    "# Accuracy for male group\n",
    "(y_hat == y_test)[group_test == 1].mean()"
   ]
  },
  {
   "cell_type": "code",
   "execution_count": 105,
   "id": "7c338024-6028-4a24-b25c-862cc222341f",
   "metadata": {},
   "outputs": [
    {
     "name": "stdout",
     "output_type": "stream",
     "text": [
      "PPV=0.7366666666666667\n",
      "FNR=0.6039426523297491\n",
      "FPR=0.034924845269672856\n"
     ]
    }
   ],
   "source": [
    "# PPV, FNR, and FPR for male group\n",
    "PPV_FNR_FPR(y_test[group_test == 1], y_hat[group_test == 1])"
   ]
  },
  {
   "cell_type": "code",
   "execution_count": 108,
   "id": "1cd8a00c-273d-4bf6-9236-2abd0f6fd8df",
   "metadata": {},
   "outputs": [
    {
     "data": {
      "text/plain": [
       "0.9091514143094842"
      ]
     },
     "execution_count": 108,
     "metadata": {},
     "output_type": "execute_result"
    }
   ],
   "source": [
    "# Acuracy for female group\n",
    "(y_hat == y_test)[group_test == 2].mean()"
   ]
  },
  {
   "cell_type": "code",
   "execution_count": 109,
   "id": "0ae021d8-8099-4333-a60a-89b03d322398",
   "metadata": {},
   "outputs": [
    {
     "name": "stdout",
     "output_type": "stream",
     "text": [
      "PPV=0.52\n",
      "FNR=0.5406360424028268\n",
      "FPR=0.0440852314474651\n"
     ]
    }
   ],
   "source": [
    "# PPV, FNR, and FPR for female group\n",
    "PPV_FNR_FPR(y_test[group_test == 2], y_hat[group_test == 2])"
   ]
  },
  {
   "cell_type": "markdown",
   "id": "aa912c71-3279-4a6c-9807-487a25774477",
   "metadata": {},
   "source": [
    "It does not seem like our model is calibrated because the PPV is not consistent across the different groups. It also seems like the model does not satify approximate error rate balance because of the big difference between FNR and FPR. It seems that for all groups, the model is prioritzing the minimization of false positives over false negatives. Our model also doesn't satisfy the statistical parity because of the differences in PPV, FNR, and FPR across all groups."
   ]
  },
  {
   "cell_type": "markdown",
   "id": "9fc2d733-7681-4389-ace0-4576b2d38187",
   "metadata": {},
   "source": [
    "---"
   ]
  },
  {
   "cell_type": "markdown",
   "id": "84fe2196-f7aa-49b1-8378-dd06f41b18ba",
   "metadata": {},
   "source": [
    "### Concluding Discussion\n",
    "\n",
    "This model could potentially benefit researchers and sociologists who are studying income inequality, social mobility, or demographic patterns as they can get insights into the relationship between demographics and income. Financial institutions (e.g. banks, lenders, etc.) and different governments can also potentially benefit from this as they can use it to assess credit worthiness and make decisions regarding loan approvals, interest rates, or financial services. \n",
    "\n",
    "However, this could affect other people's quality lives. For this model specifically, the FNR for all three groups (overall, male, and females) is around 0.57, which is relatively high. This also indicates that the model is incorrectly predicting postive as negative. This could lead to those who don't really need extra financial assistance to be falsely classified as needing the assistance, taking the opportunity away from those actually in need. \n",
    "\n",
    "On a similar note, the model does display problematic bias considering that it failed to satisfy approximate error rate balance and statistical parity. It is also not calibrated. Using the example above, the FNR for the male group is higher than the female group. This could result in someone from the male group getting the extra financial assistance when they may not need it as much compared to someone from the female group (higher FPR than the male group -- incorrectly classifying them as having a higher income than they may have).\n",
    "\n",
    "Beside bias, a model like this is also concerning because of the data behind it. This model predicts a person's income based on their demographics, which means that it may involve making inferences about an individual's financial situation without their explicit consent or knowledge. Another point is that this model uses about 17 features, however there are more factors that can influence a person's income. By not including those other factors, this model would not accurately predict an individual's income. A possible way to address these problems would be a more robust data collection process that involves consent. In addition to that, we'd need to make sure the data is comprehensive and diverse, covering a wide range of factors that influence income, including both demographic and non-demographic variables."
   ]
  }
 ],
 "metadata": {
  "kernelspec": {
   "display_name": "Python [conda env:ml-0451]",
   "language": "python",
   "name": "conda-env-ml-0451-py"
  },
  "language_info": {
   "codemirror_mode": {
    "name": "ipython",
    "version": 3
   },
   "file_extension": ".py",
   "mimetype": "text/x-python",
   "name": "python",
   "nbconvert_exporter": "python",
   "pygments_lexer": "ipython3",
   "version": "3.9.16"
  }
 },
 "nbformat": 4,
 "nbformat_minor": 5
}
